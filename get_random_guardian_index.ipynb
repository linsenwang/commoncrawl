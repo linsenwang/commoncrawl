{
 "cells": [
  {
   "cell_type": "code",
   "execution_count": 1,
   "id": "ea4f425c",
   "metadata": {},
   "outputs": [
    {
     "name": "stdout",
     "output_type": "stream",
     "text": [
      "✅ 已从 3650489 行中随机抽取 1000 行，保存到：/Users/yangqian/Downloads/commoncrawl/guardian_index_sample_1000.jsonl\n"
     ]
    }
   ],
   "source": [
    "import random\n",
    "\n",
    "input_path = \"/Users/yangqian/Downloads/commoncrawl/guardian_index_200_only.jsonl\"\n",
    "output_path = \"/Users/yangqian/Downloads/commoncrawl/guardian_index_sample_1000.jsonl\"\n",
    "\n",
    "# 先统计总行数\n",
    "with open(input_path, \"r\", encoding=\"utf-8\") as f:\n",
    "    lines = f.readlines()\n",
    "\n",
    "sample_lines = random.sample(lines, min(1000, len(lines)))\n",
    "\n",
    "# 保存结果\n",
    "with open(output_path, \"w\", encoding=\"utf-8\") as f:\n",
    "    f.writelines(sample_lines)\n",
    "\n",
    "print(f\"✅ 已从 {len(lines)} 行中随机抽取 {len(sample_lines)} 行，保存到：{output_path}\")"
   ]
  },
  {
   "cell_type": "code",
   "execution_count": null,
   "id": "fa9d3d31",
   "metadata": {},
   "outputs": [],
   "source": []
  }
 ],
 "metadata": {
  "kernelspec": {
   "display_name": "base",
   "language": "python",
   "name": "python3"
  },
  "language_info": {
   "codemirror_mode": {
    "name": "ipython",
    "version": 3
   },
   "file_extension": ".py",
   "mimetype": "text/x-python",
   "name": "python",
   "nbconvert_exporter": "python",
   "pygments_lexer": "ipython3",
   "version": "3.12.9"
  }
 },
 "nbformat": 4,
 "nbformat_minor": 5
}
