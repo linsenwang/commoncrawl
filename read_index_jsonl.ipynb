{
 "cells": [
  {
   "cell_type": "code",
   "execution_count": 3,
   "id": "19302980",
   "metadata": {},
   "outputs": [],
   "source": [
    "import pandas as pd\n",
    "\n",
    "df = pd.read_json(\"/Users/yangqian/Downloads/commoncrawl/guardian_index_merged.jsonl\", lines=True)\n",
    "# print(df.head())\n"
   ]
  },
  {
   "cell_type": "code",
   "execution_count": 4,
   "id": "674675e0",
   "metadata": {},
   "outputs": [
    {
     "name": "stdout",
     "output_type": "stream",
     "text": [
      "178933\n",
      "                                                   urlkey  \\\n",
      "115466  com,theguardian)/football/2007/jan/23/minuteby...   \n",
      "27084      com,theguardian)/theguardian/2008/mar/31/sport   \n",
      "165743  com,theguardian)/business/2008/nov/17/doha-tra...   \n",
      "147151  com,theguardian)/discussion/comment-permalink/...   \n",
      "21278   com,theguardian)/film/gallery/2013/jan/12/worl...   \n",
      "\n",
      "                        timestamp  \\\n",
      "115466 1970-08-22 11:03:43.194031   \n",
      "27084  1970-08-22 05:22:10.114953   \n",
      "165743 1970-08-22 11:03:41.185622   \n",
      "147151 1970-08-22 02:47:02.212542   \n",
      "21278  1970-08-22 13:35:23.025838   \n",
      "\n",
      "                                                      url       mime  \\\n",
      "115466  https://www.theguardian.com/football/2007/jan/...  text/html   \n",
      "27084   http://www.theguardian.com/theguardian/2008/ma...  text/html   \n",
      "165743  https://www.theguardian.com/business/2008/nov/...  text/html   \n",
      "147151  http://www.theguardian.com/discussion/comment-...  text/html   \n",
      "21278   https://www.theguardian.com/film/gallery/2013/...  text/html   \n",
      "\n",
      "       mime-detected  status                            digest  length  \\\n",
      "115466     text/html   200.0  RXAIOOIZ4HWPY5BYTFTT2XM57S4D5XXV   97519   \n",
      "27084            NaN   200.0  2BSVPWXS75LJGWB6G4BTLBAHA3GUASM3   28090   \n",
      "165743     text/html   200.0  EF4NEUD3CDIJANB5ZSVNT5EGV4DJWRGJ   85285   \n",
      "147151           NaN   200.0  W7B26LLGIXSXUYHG6NVTMPXEBXYOQEH3    1121   \n",
      "21278      text/html   200.0  5OCWCUXJ7E342ANHSZR4F5SY5CDMVAQQ  116016   \n",
      "\n",
      "            offset                                           filename  \n",
      "115466   969939908  crawl-data/CC-MAIN-2017-43/segments/1508187826...  \n",
      "27084    765123067  crawl-data/CC-MAIN-2015-22/segments/1432207930...  \n",
      "165743  1002955872  crawl-data/CC-MAIN-2017-43/segments/1508187824...  \n",
      "147151   810367636  crawl-data/CC-MAIN-2014-52/segments/1418802776...  \n",
      "21278    956041174  crawl-data/CC-MAIN-2018-05/segments/1516084891...  \n"
     ]
    }
   ],
   "source": [
    "print(len(df))\n",
    "print(df.sample(5, random_state=42))"
   ]
  },
  {
   "cell_type": "code",
   "execution_count": null,
   "id": "70975f95",
   "metadata": {},
   "outputs": [],
   "source": [
    "print(df.sample(5, random_state=42))"
   ]
  },
  {
   "cell_type": "code",
   "execution_count": null,
   "id": "772de6cc",
   "metadata": {},
   "outputs": [],
   "source": []
  }
 ],
 "metadata": {
  "kernelspec": {
   "display_name": "base",
   "language": "python",
   "name": "python3"
  },
  "language_info": {
   "codemirror_mode": {
    "name": "ipython",
    "version": 3
   },
   "file_extension": ".py",
   "mimetype": "text/x-python",
   "name": "python",
   "nbconvert_exporter": "python",
   "pygments_lexer": "ipython3",
   "version": "3.12.9"
  }
 },
 "nbformat": 4,
 "nbformat_minor": 5
}
